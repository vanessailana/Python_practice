{
 "cells": [
  {
   "cell_type": "code",
   "execution_count": 36,
   "metadata": {},
   "outputs": [
    {
     "name": "stdout",
     "output_type": "stream",
     "text": [
      "1\n",
      "1\n",
      "1\n",
      "1\n",
      "1\n",
      "11\n",
      "12\n",
      "22\n",
      "25\n",
      "34\n",
      "64\n",
      "90\n",
      "[11, 12, 22, 25, 34, 64, 90]\n"
     ]
    }
   ],
   "source": [
    "\n",
    "def bubblesort(arr):\n",
    "\n",
    "    n=len(arr)\n",
    "    \n",
    "    for i in range(n):\n",
    "        swaps=0\n",
    "        #last element already in place\n",
    "        for j in range (0,n-i-1):\n",
    "            \n",
    "            if arr[j] > arr[j+1]:\n",
    "                \n",
    "                arr[j], arr[j+1] = arr[j+1], arr[j]\n",
    "                \n",
    "                swaps=1\n",
    "                \n",
    "                \n",
    "            #if no two elements were swapped\n",
    "            \n",
    "            \n",
    "            \n",
    "        if swaps==0:\n",
    "            \n",
    "                break\n",
    "                \n",
    "        print swaps \n",
    "                \n",
    "                \n",
    "                \n",
    "                \n",
    "                \n",
    "                \n",
    "                \n",
    "\n",
    "                \n",
    "arr = [64, 34, 25, 12, 22, 11, 90]\n",
    "\n",
    "\n",
    "\n",
    "bubblesort(arr)\n",
    "\n",
    "\n",
    "for i in range(len(arr)):\n",
    "    print(arr[i])\n",
    "    \n",
    "    \n",
    "print (arr)\n",
    "    "
   ]
  },
  {
   "cell_type": "code",
   "execution_count": null,
   "metadata": {},
   "outputs": [],
   "source": []
  }
 ],
 "metadata": {
  "kernelspec": {
   "display_name": "Python 2",
   "language": "python",
   "name": "python2"
  },
  "language_info": {
   "codemirror_mode": {
    "name": "ipython",
    "version": 2
   },
   "file_extension": ".py",
   "mimetype": "text/x-python",
   "name": "python",
   "nbconvert_exporter": "python",
   "pygments_lexer": "ipython2",
   "version": "2.7.14"
  }
 },
 "nbformat": 4,
 "nbformat_minor": 2
}
