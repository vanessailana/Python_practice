{
 "cells": [
  {
   "cell_type": "code",
   "execution_count": 4,
   "metadata": {},
   "outputs": [
    {
     "name": "stdout",
     "output_type": "stream",
     "text": [
      "give me a num  to check:3\n",
      "give me a number to divide by:2\n",
      "(3, 'is odd')\n",
      "it does not\n"
     ]
    }
   ],
   "source": [
    "num=int(input(\"give me a num  to check:\"));\n",
    "check=int(input(\"give me a number to divide by:\"))\n",
    "\n",
    "if num%4==0:\n",
    "    print(num,\"multiple of 4\")\n",
    "elif num%2==0:\n",
    "    print(num,\"is an even number\");\n",
    "else:\n",
    "    print(num,\"is odd\")\n",
    "    \n",
    "if num % check ==0 :\n",
    "    print(num, \"divides evenly\");\n",
    "    \n",
    "else:\n",
    "    print(\"it does not\");"
   ]
  },
  {
   "cell_type": "code",
   "execution_count": null,
   "metadata": {},
   "outputs": [],
   "source": []
  },
  {
   "cell_type": "code",
   "execution_count": null,
   "metadata": {},
   "outputs": [],
   "source": []
  }
 ],
 "metadata": {
  "kernelspec": {
   "display_name": "Python 2",
   "language": "python",
   "name": "python2"
  },
  "language_info": {
   "codemirror_mode": {
    "name": "ipython",
    "version": 2
   },
   "file_extension": ".py",
   "mimetype": "text/x-python",
   "name": "python",
   "nbconvert_exporter": "python",
   "pygments_lexer": "ipython2",
   "version": "2.7.14"
  }
 },
 "nbformat": 4,
 "nbformat_minor": 2
}
