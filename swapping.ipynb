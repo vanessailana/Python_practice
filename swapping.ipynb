{
 "cells": [
  {
   "cell_type": "code",
   "execution_count": 35,
   "metadata": {},
   "outputs": [
    {
     "name": "stdout",
     "output_type": "stream",
     "text": [
      "[1, 8, 2, 4, 5, 3, 7, 999, 6]\n"
     ]
    }
   ],
   "source": [
    "\n",
    "class array(list):\n",
    "    def swap(self, i, j):\n",
    "        self[i], self[j] = self[j], self[i]\n",
    "#swapping by moving \n",
    "test = array([1, 5, 4, 999, 3, 2])\n",
    "test.swap(3,5)\n",
    "test.swap(1,3)\n",
    "test.swap(2,4)\n",
    "test.swap(3,4)\n",
    "print(test)\n"
   ]
  },
  {
   "cell_type": "code",
   "execution_count": null,
   "metadata": {},
   "outputs": [],
   "source": []
  },
  {
   "cell_type": "code",
   "execution_count": null,
   "metadata": {},
   "outputs": [],
   "source": []
  }
 ],
 "metadata": {
  "kernelspec": {
   "display_name": "Python 2",
   "language": "python",
   "name": "python2"
  },
  "language_info": {
   "codemirror_mode": {
    "name": "ipython",
    "version": 2
   },
   "file_extension": ".py",
   "mimetype": "text/x-python",
   "name": "python",
   "nbconvert_exporter": "python",
   "pygments_lexer": "ipython2",
   "version": "2.7.14"
  }
 },
 "nbformat": 4,
 "nbformat_minor": 2
}
