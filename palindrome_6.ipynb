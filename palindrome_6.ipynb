{
 "cells": [
  {
   "cell_type": "code",
   "execution_count": 11,
   "metadata": {},
   "outputs": [
    {
     "name": "stdout",
     "output_type": "stream",
     "text": [
      "Enter string:aa\n",
      "palindrome\n"
     ]
    }
   ],
   "source": [
    "string=raw_input(\"Enter string:\")\n",
    "if(string==string[::-1]):\n",
    "      print(\"palindrome\")\n",
    "else:\n",
    "      print(\"no\")\n"
   ]
  },
  {
   "cell_type": "code",
   "execution_count": 14,
   "metadata": {},
   "outputs": [
    {
     "name": "stdout",
     "output_type": "stream",
     "text": [
      "hno\n"
     ]
    }
   ],
   "source": [
    "string='hi'\n",
    "\n",
    "if(string == string[::-1]):\n",
    "    print \"hi\"\n",
    "else:\n",
    "    print\"hno\""
   ]
  },
  {
   "cell_type": "code",
   "execution_count": 2,
   "metadata": {},
   "outputs": [
    {
     "name": "stdout",
     "output_type": "stream",
     "text": [
      "nao\n"
     ]
    }
   ],
   "source": [
    "string= 'ab'\n",
    "\n",
    "if(string == string[::-1]):\n",
    "    print \"pali\"\n",
    "else:\n",
    "    print \"nao\""
   ]
  },
  {
   "cell_type": "code",
   "execution_count": 1,
   "metadata": {},
   "outputs": [
    {
     "name": "stdout",
     "output_type": "stream",
     "text": [
      "ew\n"
     ]
    }
   ],
   "source": [
    "string = 'ac'\n",
    "\n",
    "if(string == string[::-1]):\n",
    "    print \"aye\"\n",
    "else:\n",
    "    print \"ew\""
   ]
  },
  {
   "cell_type": "code",
   "execution_count": null,
   "metadata": {},
   "outputs": [],
   "source": []
  }
 ],
 "metadata": {
  "kernelspec": {
   "display_name": "Python 2",
   "language": "python",
   "name": "python2"
  },
  "language_info": {
   "codemirror_mode": {
    "name": "ipython",
    "version": 2
   },
   "file_extension": ".py",
   "mimetype": "text/x-python",
   "name": "python",
   "nbconvert_exporter": "python",
   "pygments_lexer": "ipython2",
   "version": "2.7.14"
  }
 },
 "nbformat": 4,
 "nbformat_minor": 2
}
