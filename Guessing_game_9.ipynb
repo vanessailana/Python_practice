{
 "cells": [
  {
   "cell_type": "code",
   "execution_count": 1,
   "metadata": {},
   "outputs": [
    {
     "name": "stdout",
     "output_type": "stream",
     "text": [
      "What is it1\n",
      "Too low\n",
      "What is it10\n",
      "too high\n",
      "What is it3\n",
      "Too low\n",
      "What is it4\n",
      "Too low\n",
      "What is it5\n",
      "Too low\n",
      "What is it7\n",
      "too high\n",
      "What is it6\n",
      "You win\n",
      "(7, 'ties')\n"
     ]
    }
   ],
   "source": [
    "import random\n",
    "\n",
    "number=random.randint(1,9)\n",
    "\n",
    "guess=0;\n",
    "\n",
    "count=0;\n",
    "\n",
    "while guess!=number and guess!='exit':\n",
    "    guess=input(\"What is it\")\n",
    "    \n",
    "    if guess==\"exit\":\n",
    "        break\n",
    "        \n",
    "        \n",
    "    guess=int(guess)\n",
    "    count+=1;\n",
    "    \n",
    "    \n",
    "    \n",
    "    if guess < number:\n",
    "        \n",
    "        print(\"Too low\")\n",
    "        \n",
    "        \n",
    "    elif guess > number:\n",
    "        \n",
    "        print (\"too high\");\n",
    "        \n",
    "        \n",
    "    else:\n",
    "        \n",
    "        print(\"You win\")\n",
    "        print (count,\"tries\")\n",
    "        \n",
    "        "
   ]
  },
  {
   "cell_type": "code",
   "execution_count": null,
   "metadata": {},
   "outputs": [],
   "source": []
  }
 ],
 "metadata": {
  "kernelspec": {
   "display_name": "Python 2",
   "language": "python",
   "name": "python2"
  },
  "language_info": {
   "codemirror_mode": {
    "name": "ipython",
    "version": 2
   },
   "file_extension": ".py",
   "mimetype": "text/x-python",
   "name": "python",
   "nbconvert_exporter": "python",
   "pygments_lexer": "ipython2",
   "version": "2.7.14"
  }
 },
 "nbformat": 4,
 "nbformat_minor": 2
}
