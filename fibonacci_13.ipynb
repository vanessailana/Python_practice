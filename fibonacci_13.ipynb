{
 "cells": [
  {
   "cell_type": "code",
   "execution_count": 11,
   "metadata": {},
   "outputs": [
    {
     "name": "stdout",
     "output_type": "stream",
     "text": [
      "What numbers girl?2\n",
      "0\n",
      "1\n"
     ]
    }
   ],
   "source": [
    "def fibonnaci(n):\n",
    "     if (n<=1):\n",
    "        return n\n",
    "     else:\n",
    "        return(fibonnaci(n-1)+fibonnaci(n-2))\n",
    "    \n",
    "    \n",
    "n=int(input(\"What numbers girl?\"))\n",
    "\n",
    "\n",
    "\n",
    "\n",
    "for i in range(n):\n",
    "    print fibonnaci(i)"
   ]
  },
  {
   "cell_type": "code",
   "execution_count": null,
   "metadata": {},
   "outputs": [],
   "source": []
  },
  {
   "cell_type": "code",
   "execution_count": null,
   "metadata": {},
   "outputs": [],
   "source": []
  }
 ],
 "metadata": {
  "kernelspec": {
   "display_name": "Python 2",
   "language": "python",
   "name": "python2"
  },
  "language_info": {
   "codemirror_mode": {
    "name": "ipython",
    "version": 2
   },
   "file_extension": ".py",
   "mimetype": "text/x-python",
   "name": "python",
   "nbconvert_exporter": "python",
   "pygments_lexer": "ipython2",
   "version": "2.7.14"
  }
 },
 "nbformat": 4,
 "nbformat_minor": 2
}
