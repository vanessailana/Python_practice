{
 "cells": [
  {
   "cell_type": "code",
   "execution_count": 8,
   "metadata": {},
   "outputs": [
    {
     "name": "stdout",
     "output_type": "stream",
     "text": [
      "number 110\n",
      "number 21\n",
      "number 34\n",
      "a is the largest\n"
     ]
    }
   ],
   "source": [
    "a=int(input('number 1'));\n",
    "b=int(input('number 2'));\n",
    "c=int(input('number 3'))\n",
    "\n",
    "def max(a,b,c):\n",
    "    if a >b and a > c:\n",
    "        print \"a is the largest\"\n",
    "    elif b>a and b > c:\n",
    "        print \"b is the largest\"\n",
    "    else:\n",
    "       print \"c is the largest\"\n",
    "    \n",
    "    \n",
    "max(a,b,c)"
   ]
  },
  {
   "cell_type": "code",
   "execution_count": null,
   "metadata": {},
   "outputs": [],
   "source": []
  }
 ],
 "metadata": {
  "kernelspec": {
   "display_name": "Python 2",
   "language": "python",
   "name": "python2"
  },
  "language_info": {
   "codemirror_mode": {
    "name": "ipython",
    "version": 2
   },
   "file_extension": ".py",
   "mimetype": "text/x-python",
   "name": "python",
   "nbconvert_exporter": "python",
   "pygments_lexer": "ipython2",
   "version": "2.7.14"
  }
 },
 "nbformat": 4,
 "nbformat_minor": 2
}
