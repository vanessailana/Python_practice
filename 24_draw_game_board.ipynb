{
 "cells": [
  {
   "cell_type": "code",
   "execution_count": 3,
   "metadata": {},
   "outputs": [
    {
     "name": "stdout",
     "output_type": "stream",
     "text": [
      "Enter the required size of the game board10\n",
      "--------------------\n",
      "||||||||||||||||||||\n",
      "--------------------\n",
      "||||||||||||||||||||\n",
      "--------------------\n",
      "||||||||||||||||||||\n",
      "--------------------\n",
      "||||||||||||||||||||\n",
      "--------------------\n",
      "||||||||||||||||||||\n",
      "--------------------\n",
      "||||||||||||||||||||\n",
      "--------------------\n",
      "||||||||||||||||||||\n",
      "--------------------\n",
      "||||||||||||||||||||\n",
      "--------------------\n",
      "||||||||||||||||||||\n",
      "--------------------\n",
      "||||||||||||||||||||\n",
      "--------------------\n"
     ]
    }
   ],
   "source": [
    "def game_board():\n",
    "    n=int(input(\"Enter the required size of the game board\"));\n",
    "    print(n*'--')\n",
    "    for i in range(1,n+1):\n",
    "        print(n*'||')\n",
    "        print(n*'--')\n",
    "        \n",
    "        \n",
    "        \n",
    "game_board()"
   ]
  },
  {
   "cell_type": "code",
   "execution_count": null,
   "metadata": {},
   "outputs": [],
   "source": []
  }
 ],
 "metadata": {
  "kernelspec": {
   "display_name": "Python 3",
   "language": "python",
   "name": "python3"
  },
  "language_info": {
   "codemirror_mode": {
    "name": "ipython",
    "version": 3
   },
   "file_extension": ".py",
   "mimetype": "text/x-python",
   "name": "python",
   "nbconvert_exporter": "python",
   "pygments_lexer": "ipython3",
   "version": "3.6.5"
  }
 },
 "nbformat": 4,
 "nbformat_minor": 2
}
