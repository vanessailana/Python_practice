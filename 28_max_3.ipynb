{
 "cells": [
  {
   "cell_type": "code",
   "execution_count": 17,
   "metadata": {},
   "outputs": [
    {
     "name": "stdout",
     "output_type": "stream",
     "text": [
      "43 70 58\n",
      "70\n"
     ]
    }
   ],
   "source": [
    "import random \n",
    "\n",
    "def returnLarge(var1,var2,var3):\n",
    "    numbers=[var1,var2,var3];\n",
    "    numbers.sort()\n",
    "    return numbers[2];\n",
    "\n",
    "\n",
    "var1=random.randint(1,99)\n",
    "var2=random.randint(1,99)\n",
    "var3=random.randint(1,99)\n",
    "\n",
    "print(var1,var2,var3)\n",
    "\n",
    "\n",
    "print(str(returnLarge(var1,var2,var3)))"
   ]
  },
  {
   "cell_type": "code",
   "execution_count": null,
   "metadata": {},
   "outputs": [],
   "source": []
  }
 ],
 "metadata": {
  "kernelspec": {
   "display_name": "Python 3",
   "language": "python",
   "name": "python3"
  },
  "language_info": {
   "codemirror_mode": {
    "name": "ipython",
    "version": 3
   },
   "file_extension": ".py",
   "mimetype": "text/x-python",
   "name": "python",
   "nbconvert_exporter": "python",
   "pygments_lexer": "ipython3",
   "version": "3.6.5"
  }
 },
 "nbformat": 4,
 "nbformat_minor": 2
}
