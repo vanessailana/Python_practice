{
 "cells": [
  {
   "cell_type": "code",
   "execution_count": 5,
   "metadata": {},
   "outputs": [
    {
     "name": "stdout",
     "output_type": "stream",
     "text": [
      "enter a number10\n",
      "[2, 5]\n"
     ]
    }
   ],
   "source": [
    "num=int(input('enter a number'));\n",
    "\n",
    "#factors of that number\n",
    "a=[x for x in range(2,num) if num % x ==0]\n",
    "\n",
    "print(a)\n",
    "\n",
    "\n",
    "def prime(a):\n",
    "    \n",
    "    if num > 1:\n",
    "        if len(a)==0:\n",
    "        \n",
    "            print \"prime\"\n",
    "    \n",
    "    else:\n",
    "        print \"not prime\"\n",
    "        \n",
    "\n",
    "\n",
    "        \n",
    "        \n",
    "        \n",
    "        \n",
    "prime(a)"
   ]
  },
  {
   "cell_type": "code",
   "execution_count": null,
   "metadata": {},
   "outputs": [],
   "source": []
  }
 ],
 "metadata": {
  "kernelspec": {
   "display_name": "Python 2",
   "language": "python",
   "name": "python2"
  },
  "language_info": {
   "codemirror_mode": {
    "name": "ipython",
    "version": 2
   },
   "file_extension": ".py",
   "mimetype": "text/x-python",
   "name": "python",
   "nbconvert_exporter": "python",
   "pygments_lexer": "ipython2",
   "version": "2.7.14"
  }
 },
 "nbformat": 4,
 "nbformat_minor": 2
}
