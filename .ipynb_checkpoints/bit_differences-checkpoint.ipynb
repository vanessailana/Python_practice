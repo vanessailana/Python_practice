{
 "cells": [
  {
   "cell_type": "code",
   "execution_count": 6,
   "metadata": {},
   "outputs": [
    {
     "data": {
      "text/plain": [
       "10"
      ]
     },
     "execution_count": 6,
     "metadata": {},
     "output_type": "execute_result"
    }
   ],
   "source": [
    "#sum of bit differences among all pairsde\n",
    "\n",
    "def sum_array(arr):\n",
    "    sumarry=0\n",
    "    for i in arr:\n",
    "        sumarry+=i;\n",
    "    return sumarry;\n",
    "\n",
    "\n",
    "\n",
    "\n",
    "\n",
    "arr=[1,2,3,4]\n",
    "\n",
    "\n",
    "sum_array(arr)"
   ]
  },
  {
   "cell_type": "code",
   "execution_count": 12,
   "metadata": {},
   "outputs": [
    {
     "ename": "NameError",
     "evalue": "name 'sumBitDifferences' is not defined",
     "output_type": "error",
     "traceback": [
      "\u001b[0;31m---------------------------------------------------------------------------\u001b[0m",
      "\u001b[0;31mNameError\u001b[0m                                 Traceback (most recent call last)",
      "\u001b[0;32m<ipython-input-12-2de55e85b7c2>\u001b[0m in \u001b[0;36m<module>\u001b[0;34m()\u001b[0m\n\u001b[1;32m     22\u001b[0m \u001b[0marr\u001b[0m \u001b[0;34m=\u001b[0m \u001b[0;34m[\u001b[0m\u001b[0;36m1\u001b[0m\u001b[0;34m,\u001b[0m \u001b[0;36m3\u001b[0m\u001b[0;34m,\u001b[0m \u001b[0;36m5\u001b[0m\u001b[0;34m]\u001b[0m\u001b[0;34m\u001b[0m\u001b[0m\n\u001b[1;32m     23\u001b[0m \u001b[0mn\u001b[0m \u001b[0;34m=\u001b[0m \u001b[0mlen\u001b[0m\u001b[0;34m(\u001b[0m\u001b[0marr\u001b[0m \u001b[0;34m)\u001b[0m\u001b[0;34m\u001b[0m\u001b[0m\n\u001b[0;32m---> 24\u001b[0;31m \u001b[0;32mprint\u001b[0m\u001b[0;34m(\u001b[0m\u001b[0msumBitDifferences\u001b[0m\u001b[0;34m(\u001b[0m\u001b[0marr\u001b[0m\u001b[0;34m,\u001b[0m \u001b[0mn\u001b[0m\u001b[0;34m)\u001b[0m\u001b[0;34m)\u001b[0m\u001b[0;34m\u001b[0m\u001b[0m\n\u001b[0m",
      "\u001b[0;31mNameError\u001b[0m: name 'sumBitDifferences' is not defined"
     ]
    }
   ],
   "source": [
    "#bit differences\n",
    "\n",
    "\n",
    "def sumBitDifferences(arr,n):\n",
    "    ans = 0  # Initialize result\n",
    " \n",
    "    # traverse over all bits\n",
    "    for i in range(0, 32):\n",
    "     \n",
    "        # count number of elements with i'th bit set\n",
    "        count = 0\n",
    "        for j in range(0,n):\n",
    "            if ( (arr[j] & (1 << i)) ):\n",
    "                count+=1\n",
    " \n",
    "        # Add \"count * (n - count) * 2\" to the answer\n",
    "        ans += (count * (n - count) * 2);\n",
    "     \n",
    "    return ans\n",
    " \n",
    "# Driver prorgram\n",
    "arr = [1, 3, 5]\n",
    "n = len(arr )\n",
    "print(sumBitDifferences(arr, n))"
   ]
  },
  {
   "cell_type": "code",
   "execution_count": null,
   "metadata": {},
   "outputs": [],
   "source": []
  }
 ],
 "metadata": {
  "kernelspec": {
   "display_name": "Python 2",
   "language": "python",
   "name": "python2"
  },
  "language_info": {
   "codemirror_mode": {
    "name": "ipython",
    "version": 2
   },
   "file_extension": ".py",
   "mimetype": "text/x-python",
   "name": "python",
   "nbconvert_exporter": "python",
   "pygments_lexer": "ipython2",
   "version": "2.7.14"
  }
 },
 "nbformat": 4,
 "nbformat_minor": 2
}
