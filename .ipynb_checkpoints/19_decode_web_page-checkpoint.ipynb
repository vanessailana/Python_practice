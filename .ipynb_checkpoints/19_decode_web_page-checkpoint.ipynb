{
 "cells": [
  {
   "cell_type": "code",
   "execution_count": 2,
   "metadata": {},
   "outputs": [],
   "source": [
    "import requests\n",
    "from bs4 import BeautifulSoup\n",
    "\n",
    "#open the web site Vanity fair\n",
    "url = 'http://www.vanityfair.com/society/2014/06/monica-lewinsky-humiliation-culture'\n",
    "r = requests.get(url)\n",
    "\n",
    "soup = BeautifulSoup(r.content,'html.parser')\n",
    "listH2 = soup.find_all('p')\n",
    "for tag in listH2:\n",
    "        print(tag.get_text())"
   ]
  },
  {
   "cell_type": "code",
   "execution_count": null,
   "metadata": {},
   "outputs": [],
   "source": []
  }
 ],
 "metadata": {
  "kernelspec": {
   "display_name": "Python 2",
   "language": "python",
   "name": "python2"
  },
  "language_info": {
   "codemirror_mode": {
    "name": "ipython",
    "version": 2
   },
   "file_extension": ".py",
   "mimetype": "text/x-python",
   "name": "python",
   "nbconvert_exporter": "python",
   "pygments_lexer": "ipython2",
   "version": "2.7.14"
  }
 },
 "nbformat": 4,
 "nbformat_minor": 2
}
