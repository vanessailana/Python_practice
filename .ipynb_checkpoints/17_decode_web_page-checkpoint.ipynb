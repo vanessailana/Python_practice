{
 "cells": [
  {
   "cell_type": "code",
   "execution_count": null,
   "metadata": {},
   "outputs": [],
   "source": [
    "import requests\n",
    "from bs4 import BeautifulSoup\n",
    "\n",
    "\n",
    "base_url = 'http://www.nytimes.com'\n",
    "r = requests.get(base_url)\n",
    "soup = BeautifulSoup(r.text)\n",
    " \n",
    "for story_heading in soup.find_all(class_=\"story-heading\"): \n",
    "    if story_heading.a: \n",
    "        print(story_heading.a.text.replace(\"\\n\", \" \").strip())\n",
    "    else: \n",
    "        print(story_heading.contents[0].strip())"
   ]
  }
 ],
 "metadata": {
  "kernelspec": {
   "display_name": "Python 2",
   "language": "python",
   "name": "python2"
  },
  "language_info": {
   "codemirror_mode": {
    "name": "ipython",
    "version": 2
   },
   "file_extension": ".py",
   "mimetype": "text/x-python",
   "name": "python",
   "nbconvert_exporter": "python",
   "pygments_lexer": "ipython2",
   "version": "2.7.14"
  }
 },
 "nbformat": 4,
 "nbformat_minor": 2
}
