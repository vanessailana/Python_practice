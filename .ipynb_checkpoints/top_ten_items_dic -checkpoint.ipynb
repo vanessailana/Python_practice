{
 "cells": [
  {
   "cell_type": "code",
   "execution_count": 4,
   "metadata": {},
   "outputs": [],
   "source": [
    "from operator import itemgetter\n",
    "import operator\n",
    "l=['hi','oh','hi','hi','cat','cat','cat','duck','abc','ade',1,2,3,1,1,2,1,1,23,345,324,4234]\n",
    "def listtodic(l):\n",
    "    d={}\n",
    "    for o in l:\n",
    "        d.setdefault(o,0)\n",
    "        d[o]+=1 \n",
    "    print d\n",
    "    print sorted(d, key=d.get, reverse=True)[:3]\n",
    "    print \"min\"\n",
    "\n",
    "   \n",
    "     "
   ]
  },
  {
   "cell_type": "code",
   "execution_count": null,
   "metadata": {},
   "outputs": [],
   "source": []
  },
  {
   "cell_type": "code",
   "execution_count": null,
   "metadata": {},
   "outputs": [],
   "source": []
  }
 ],
 "metadata": {
  "kernelspec": {
   "display_name": "Python 2",
   "language": "python",
   "name": "python2"
  },
  "language_info": {
   "codemirror_mode": {
    "name": "ipython",
    "version": 2
   },
   "file_extension": ".py",
   "mimetype": "text/x-python",
   "name": "python",
   "nbconvert_exporter": "python",
   "pygments_lexer": "ipython2",
   "version": "2.7.14"
  }
 },
 "nbformat": 4,
 "nbformat_minor": 2
}
