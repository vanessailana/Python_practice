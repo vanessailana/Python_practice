{
 "cells": [
  {
   "cell_type": "code",
   "execution_count": 9,
   "metadata": {},
   "outputs": [
    {
     "name": "stdout",
     "output_type": "stream",
     "text": [
      "{'abc': 1, 'oh': 1, 'cat': 3, 'ade': 1, 'duck': 1, 'hi': 3}\n",
      "['cat', 'hi', 'abc', 'oh', 'ade', 'duck']\n",
      "None\n"
     ]
    }
   ],
   "source": [
    "from operator import itemgetter\n",
    "import operator\n",
    "l=['hi','oh','hi','hi','cat','cat','cat','duck','abc','ade',132323,12442214,13311,1,1,1,1]\n",
    "def listtodic(l):\n",
    "    d={}\n",
    "    for o in l:\n",
    "        d.setdefault(o,0)\n",
    "        d[o]+=1 \n",
    "    print d\n",
    "    print sorted(d, key=d.get, reverse=True)[:10]\n",
    "   \n",
    "\n",
    "print listtodic(l)   "
   ]
  },
  {
   "cell_type": "code",
   "execution_count": null,
   "metadata": {},
   "outputs": [],
   "source": []
  }
 ],
 "metadata": {
  "kernelspec": {
   "display_name": "Python 2",
   "language": "python",
   "name": "python2"
  },
  "language_info": {
   "codemirror_mode": {
    "name": "ipython",
    "version": 2
   },
   "file_extension": ".py",
   "mimetype": "text/x-python",
   "name": "python",
   "nbconvert_exporter": "python",
   "pygments_lexer": "ipython2",
   "version": "2.7.14"
  }
 },
 "nbformat": 4,
 "nbformat_minor": 2
}
