{
 "cells": [
  {
   "cell_type": "code",
   "execution_count": 4,
   "metadata": {},
   "outputs": [
    {
     "name": "stdout",
     "output_type": "stream",
     "text": [
      "What is your name:Vanessa\n",
      "How old are you: 22\n",
      "Vanessa will be 100 years old in2096\n"
     ]
    }
   ],
   "source": [
    "#create a python program to ask user to enter name and age and when they will be 100\n",
    "\n",
    "\n",
    "name=raw_input(\"What is your name:\")\n",
    "\n",
    "age=int(input(\"How old are you: \"))\n",
    "\n",
    "year=str((2018-age)+100)\n",
    "\n",
    "print(name+\" will be 100 years old in \" + year)"
   ]
  },
  {
   "cell_type": "code",
   "execution_count": null,
   "metadata": {},
   "outputs": [],
   "source": []
  }
 ],
 "metadata": {
  "kernelspec": {
   "display_name": "Python 2",
   "language": "python",
   "name": "python2"
  },
  "language_info": {
   "codemirror_mode": {
    "name": "ipython",
    "version": 2
   },
   "file_extension": ".py",
   "mimetype": "text/x-python",
   "name": "python",
   "nbconvert_exporter": "python",
   "pygments_lexer": "ipython2",
   "version": "2.7.14"
  }
 },
 "nbformat": 4,
 "nbformat_minor": 2
}
