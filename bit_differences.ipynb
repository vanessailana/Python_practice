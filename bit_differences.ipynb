{
 "cells": [
  {
   "cell_type": "code",
   "execution_count": 6,
   "metadata": {},
   "outputs": [
    {
     "data": {
      "text/plain": [
       "10"
      ]
     },
     "execution_count": 6,
     "metadata": {},
     "output_type": "execute_result"
    }
   ],
   "source": [
    "#sum of bit differences among all pairsde\n",
    "\n",
    "def sum_array(arr):\n",
    "    sumarry=0\n",
    "    for i in arr:\n",
    "        sumarry+=i;\n",
    "    return sumarry;\n",
    "\n",
    "\n",
    "\n",
    "\n",
    "\n",
    "arr=[1,2,3,4]\n",
    "\n",
    "\n",
    "sum_array(arr)"
   ]
  },
  {
   "cell_type": "code",
   "execution_count": 13,
   "metadata": {},
   "outputs": [
    {
     "name": "stdout",
     "output_type": "stream",
     "text": [
      "8\n"
     ]
    }
   ],
   "source": [
    "#bit differences\n",
    "\n",
    "\n",
    "def sumBitDifferences(arr,n):\n",
    "    ans = 0  # Initialize result\n",
    " \n",
    "    # traverse over all bits\n",
    "    for i in range(0, 32):\n",
    "     \n",
    "        # count number of elements with i'th bit set\n",
    "        count = 0\n",
    "        for j in range(0,n):\n",
    "            if ( (arr[j] & (1 << i)) ):\n",
    "                count+=1\n",
    " \n",
    "        # Add \"count * (n - count) * 2\" to the answer\n",
    "        ans += (count * (n - count) * 2);\n",
    "     \n",
    "    return ans\n",
    " \n",
    "# Driver prorgram\n",
    "arr = [1, 3, 5]\n",
    "n = len(arr )\n",
    "print(sumBitDifferences(arr, n))"
   ]
  },
  {
   "cell_type": "code",
   "execution_count": null,
   "metadata": {},
   "outputs": [],
   "source": []
  }
 ],
 "metadata": {
  "kernelspec": {
   "display_name": "Python 2",
   "language": "python",
   "name": "python2"
  },
  "language_info": {
   "codemirror_mode": {
    "name": "ipython",
    "version": 2
   },
   "file_extension": ".py",
   "mimetype": "text/x-python",
   "name": "python",
   "nbconvert_exporter": "python",
   "pygments_lexer": "ipython2",
   "version": "2.7.14"
  }
 },
 "nbformat": 4,
 "nbformat_minor": 2
}
